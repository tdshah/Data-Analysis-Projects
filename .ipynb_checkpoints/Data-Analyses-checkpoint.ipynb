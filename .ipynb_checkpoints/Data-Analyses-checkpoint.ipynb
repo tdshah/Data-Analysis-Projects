{
 "cells": [
  {
   "cell_type": "code",
   "execution_count": 27,
   "metadata": {
    "collapsed": false
   },
   "outputs": [],
   "source": [
    "#Imports\n",
    "\n",
    "import pandas as pd\n",
    "import numpy as np\n",
    "import seaborn as sns\n",
    "import matplotlib.pyplot as plt"
   ]
  },
  {
   "cell_type": "code",
   "execution_count": 28,
   "metadata": {
    "collapsed": false
   },
   "outputs": [],
   "source": [
    "#Load in dataset\n",
    "data = pd.read_csv('./uber-raw-data-sep14.csv')"
   ]
  },
  {
   "cell_type": "code",
   "execution_count": 29,
   "metadata": {
    "collapsed": false
   },
   "outputs": [
    {
     "data": {
      "text/plain": [
       "(1028136, 4)"
      ]
     },
     "execution_count": 29,
     "metadata": {},
     "output_type": "execute_result"
    }
   ],
   "source": [
    "#Check how many items we have-  1028136 examples with 4 features each\n",
    "data.shape"
   ]
  },
  {
   "cell_type": "code",
   "execution_count": 43,
   "metadata": {
    "collapsed": false
   },
   "outputs": [],
   "source": [
    "#Convert Date/Time feature to Python-readable numerical format\n",
    "data['Date/Time'] = data['Date/Time'].map(pd.to_datetime)"
   ]
  },
  {
   "cell_type": "code",
   "execution_count": 74,
   "metadata": {
    "collapsed": false
   },
   "outputs": [],
   "source": [
    "def get_day_of_month(dt):\n",
    "    return dt.day\n",
    "\n",
    "#add a Day of Month feature column\n",
    "data['dom'] = data['Date/Time'].map(get_day_of_month)"
   ]
  },
  {
   "cell_type": "code",
   "execution_count": 75,
   "metadata": {
    "collapsed": false
   },
   "outputs": [],
   "source": [
    "def get_weekday(dt):\n",
    "    return dt.weekday()\n",
    "\n",
    "#add a Weekday feature column\n",
    "data['Weekday'] = data['Date/Time'].map(get_weekday)"
   ]
  },
  {
   "cell_type": "code",
   "execution_count": 76,
   "metadata": {
    "collapsed": false
   },
   "outputs": [],
   "source": [
    "def get_hour(dt):\n",
    "    return dt.hour\n",
    "\n",
    "#add Hour feature column\n",
    "data['Hour'] = data['Date/Time'].map(get_hour)"
   ]
  },
  {
   "cell_type": "code",
   "execution_count": 77,
   "metadata": {
    "collapsed": false
   },
   "outputs": [
    {
     "data": {
      "text/plain": [
       "Text(0,0.5,'Frequency of Uber Rides')"
      ]
     },
     "execution_count": 77,
     "metadata": {},
     "output_type": "execute_result"
    },
    {
     "data": {
      "image/png": "[encoded data removed]",
      "text/plain": [
       "<matplotlib.figure.Figure at 0x1b8271bb588>"
      ]
     },
     "metadata": {},
     "output_type": "display_data"
    }
   ],
   "source": [
    "hist(data.dom,  bins=30, rwidth=.8, range=(0.5, 30.5) )\n",
    "title('Frequency of Uber Rides by Date of Month')\n",
    "xlabel('Date of Month')\n",
    "ylabel('Frequency of Uber Rides')"
   ]
  },
  {
   "cell_type": "code",
   "execution_count": 81,
   "metadata": {
    "collapsed": false,
    "scrolled": false
   },
   "outputs": [
    {
     "data": {
      "text/plain": [
       "dom\n",
       "1     19961\n",
       "2     28831\n",
       "3     32631\n",
       "4     38360\n",
       "5     42319\n",
       "6     40520\n",
       "7     30134\n",
       "8     30360\n",
       "9     34560\n",
       "10    35910\n",
       "11    36439\n",
       "12    39540\n",
       "13    43205\n",
       "14    28122\n",
       "15    29454\n",
       "16    36092\n",
       "17    35531\n",
       "18    40274\n",
       "19    41017\n",
       "20    38864\n",
       "21    28620\n",
       "22    28312\n",
       "23    30316\n",
       "24    31301\n",
       "25    38203\n",
       "26    37504\n",
       "27    39468\n",
       "28    29656\n",
       "29    29201\n",
       "30    33431\n",
       "dtype: int64"
      ]
     },
     "execution_count": 81,
     "metadata": {},
     "output_type": "execute_result"
    }
   ],
   "source": [
    "def count_rows(rows):\n",
    "    return len(rows)\n",
    "\n",
    "by_date = data.groupby('dom').apply(count_rows)\n",
    "by_date"
   ]
  },
  {
   "cell_type": "code",
   "execution_count": 104,
   "metadata": {
    "collapsed": false
   },
   "outputs": [
    {
     "data": {
      "text/plain": [
       "Text(0,0.5,'Frequency of Uber Rides')"
      ]
     },
     "execution_count": 104,
     "metadata": {},
     "output_type": "execute_result"
    },
    {
     "data": {
      "image/png": "[encoded data removed]",
      "text/plain": [
       "<matplotlib.figure.Figure at 0x1b8251dbf28>"
      ]
     },
     "metadata": {},
     "output_type": "display_data"
    }
   ],
   "source": [
    "bar(range(1,31), by_date)\n",
    "title('Frequency of Uber Rides by Date of Month in Sep 2014')\n",
    "xlabel('Date of Month')\n",
    "ylabel('Frequency of Uber Rides')"
   ]
  },
  {
   "cell_type": "code",
   "execution_count": 95,
   "metadata": {
    "collapsed": false
   },
   "outputs": [
    {
     "data": {
      "text/plain": [
       "dom\n",
       "1     19961\n",
       "14    28122\n",
       "22    28312\n",
       "21    28620\n",
       "2     28831\n",
       "29    29201\n",
       "15    29454\n",
       "28    29656\n",
       "7     30134\n",
       "23    30316\n",
       "8     30360\n",
       "24    31301\n",
       "3     32631\n",
       "30    33431\n",
       "9     34560\n",
       "17    35531\n",
       "10    35910\n",
       "16    36092\n",
       "11    36439\n",
       "26    37504\n",
       "25    38203\n",
       "4     38360\n",
       "20    38864\n",
       "27    39468\n",
       "12    39540\n",
       "18    40274\n",
       "6     40520\n",
       "19    41017\n",
       "5     42319\n",
       "13    43205\n",
       "dtype: int64"
      ]
     },
     "execution_count": 95,
     "metadata": {},
     "output_type": "execute_result"
    }
   ],
   "source": [
    "#Sorted in ascending order of the most number of rides completed\n",
    "\n",
    "by_date_sorted = by_date.sort_values()\n",
    "by_date_sorted"
   ]
  },
  {
   "cell_type": "code",
   "execution_count": 105,
   "metadata": {
    "collapsed": false
   },
   "outputs": [
    {
     "data": {
      "text/plain": [
       "Text(0,0.5,'Frequency of Uber Rides')"
      ]
     },
     "execution_count": 105,
     "metadata": {},
     "output_type": "execute_result"
    },
    {
     "data": {
      "image/png": "[encoded data removed]",
      "text/plain": [
       "<matplotlib.figure.Figure at 0x1b8275e01d0>"
      ]
     },
     "metadata": {},
     "output_type": "display_data"
    }
   ],
   "source": [
    "bar(range(1,31), by_date_sorted)\n",
    "xticks(range(1,31), by_date_sorted.index)\n",
    "title('Sorted Frequency of Uber Rides by Date of Month in Sep 2014')\n",
    "xlabel('Date of Month')\n",
    "ylabel('Frequency of Uber Rides')"
   ]
  },
  {
   "cell_type": "code",
   "execution_count": 117,
   "metadata": {
    "collapsed": false
   },
   "outputs": [
    {
     "data": {
      "text/plain": [
       "Text(0,0.5,'Rides')"
      ]
     },
     "execution_count": 117,
     "metadata": {},
     "output_type": "execute_result"
    },
    {
     "data": {
      "image/png": "[encoded data removed]",
      "text/plain": [
       "<matplotlib.figure.Figure at 0x1b827c129b0>"
      ]
     },
     "metadata": {},
     "output_type": "display_data"
    }
   ],
   "source": [
    "hist(data.Hour, rwidth=0.8, bins=24, range=(0.5,24))\n",
    "title('Frequency of Rides by Time of Day')\n",
    "xlabel('Time (Hour)')\n",
    "ylabel('Rides')"
   ]
  },
  {
   "cell_type": "code",
   "execution_count": null,
   "metadata": {
    "collapsed": true
   },
   "outputs": [],
   "source": []
  }
 ],
 "metadata": {
  "kernelspec": {
   "display_name": "Python 3",
   "language": "python",
   "name": "python3"
  },
  "language_info": {
   "codemirror_mode": {
    "name": "ipython",
    "version": 3
   },
   "file_extension": ".py",
   "mimetype": "text/x-python",
   "name": "python",
   "nbconvert_exporter": "python",
   "pygments_lexer": "ipython3",
   "version": "3.6.0"
  }
 },
 "nbformat": 4,
 "nbformat_minor": 2
}
